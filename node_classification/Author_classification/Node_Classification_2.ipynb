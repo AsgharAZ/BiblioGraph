{
  "nbformat": 4,
  "nbformat_minor": 0,
  "metadata": {
    "colab": {
      "provenance": []
    },
    "kernelspec": {
      "name": "python3",
      "display_name": "Python 3"
    },
    "language_info": {
      "name": "python"
    }
  },
  "cells": [
    {
      "cell_type": "markdown",
      "source": [
        "Neo4j code for creating embeddings"
      ],
      "metadata": {
        "id": "FKKJx8TLNn4B"
      }
    },
    {
      "cell_type": "code",
      "execution_count": null,
      "metadata": {
        "id": "OqZTWq7bNkQO"
      },
      "outputs": [],
      "source": [
        "CALL gds.graph.project(\n",
        "  'authorGraph',\n",
        "  'Author',\n",
        "  'COAUTHORS'  // replace with your actual relationship type if different\n",
        ");\n",
        "\n",
        "\n",
        "CALL gds.node2vec.write(\n",
        "  'authorGraph',\n",
        "  {\n",
        "    embeddingDimension: 64,\n",
        "    writeProperty: 'node2vec'\n",
        "  }\n",
        ")\n",
        "YIELD nodePropertiesWritten, writeMillis;"
      ]
    },
    {
      "cell_type": "markdown",
      "source": [
        "Python code for cluster-based classification"
      ],
      "metadata": {
        "id": "_NQjlUMFN2dR"
      }
    },
    {
      "cell_type": "code",
      "source": [
        "import pandas as pd\n",
        "import numpy as np\n",
        "from collections import Counter\n",
        "from sklearn.model_selection import train_test_split\n",
        "from sklearn.ensemble import RandomForestClassifier\n",
        "from sklearn.metrics import classification_report, confusion_matrix, accuracy_score\n",
        "from sklearn.preprocessing import MultiLabelBinarizer\n",
        "from sklearn.multiclass import OneVsRestClassifier\n",
        "from sklearn.cluster import KMeans\n",
        "import matplotlib.pyplot as plt\n",
        "from sklearn.metrics import roc_curve, auc\n",
        "from sklearn.preprocessing import label_binarize\n",
        "from common.neo4j_utils import run_query, close_driver, Neo4jOperation\n",
        "\n",
        "\n",
        "unsup_embedding_query = Neo4jOperation(query=\"\"\"\n",
        "MATCH (a:Author) WHERE a.node2vec IS NOT NULL\n",
        "RETURN a.authorId AS authorId, a.node2vec AS embedding\n",
        "\"\"\")\n",
        "embedding_df = unsup_embedding_query.run()\n",
        "\n",
        "X = np.array(embedding_df['embedding'].to_list())\n",
        "kmeans = KMeans(n_clusters=10, random_state=0)\n",
        "\n",
        "\n",
        "if X is None or len(X) == 0:\n",
        "    print(\"X is empty. Aborting KMeans.\")\n",
        "    exit()\n",
        "\n",
        "kmeans.fit(X)\n",
        "embedding_df['cluster'] = kmeans.labels_\n",
        "\n",
        "X = embedding_df['embedding'].to_list()\n",
        "Y = embedding_df['cluster'].to_list()\n",
        "\n",
        "x_train, x_test, y_train, y_test = train_test_split(X, Y, test_size=0.4, random_state=42)\n",
        "clf = RandomForestClassifier()\n",
        "clf.fit(x_train, y_train)\n",
        "y_pred = clf.predict(x_test)\n",
        "\n",
        "print(\"Cluster-Based Classification Report:\")\n",
        "print(classification_report(y_test, y_pred))\n",
        "\n",
        "\n",
        "\n",
        "#ROC curve plotting\n",
        "\n",
        "\n",
        "y_test_bin = label_binarize(y_test, classes=range(10))\n",
        "y_pred_prob = clf.predict_proba(x_test)\n",
        "\n",
        "plt.figure(figsize=(10, 7))\n",
        "\n",
        "for i in range(10):\n",
        "    fpr, tpr, _ = roc_curve(y_test_bin[:, i], y_pred_prob[:, i])\n",
        "    roc_auc = auc(fpr, tpr)\n",
        "    plt.plot(fpr, tpr, label=f'Class {i} (AUC = {roc_auc:.2f})')\n",
        "\n",
        "plt.plot([0, 1], [0, 1], 'k--', label='Random Guess (AUC = 0.5)')\n",
        "\n",
        "plt.xlabel('False Positive Rate')\n",
        "plt.ylabel('True Positive Rate')\n",
        "plt.title('ROC Curve for Multi-Class Classification')\n",
        "plt.legend(loc='lower right')\n",
        "plt.show()"
      ],
      "metadata": {
        "id": "IfLHa5DCN63K"
      },
      "execution_count": null,
      "outputs": []
    }
  ]
}