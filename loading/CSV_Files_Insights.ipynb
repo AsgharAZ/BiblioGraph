{
 "cells": [
  {
   "cell_type": "code",
   "execution_count": 2,
   "id": "bf62fd93-1162-4103-81a0-6631f001a803",
   "metadata": {},
   "outputs": [],
   "source": [
    "import pandas as pd\n",
    "import numpy as np\n",
    "import seaborn as sns\n",
    "import matplotlib.pyplot as plt\n",
    "from scipy import stats"
   ]
  },
  {
   "cell_type": "code",
   "execution_count": 4,
   "id": "4121165b-ab54-4575-90e4-39ab121c837c",
   "metadata": {},
   "outputs": [],
   "source": [
    "# Reading the data\n",
    "AuthorCSV = pd.read_csv(\"author.csv\")\n",
    "Author_PaperCSV = pd.read_csv(\"author_paper.csv\")\n",
    "JournalCSV = pd.read_csv(\"journal.csv\")\n",
    "TopicCSV = pd.read_csv(\"topic.csv\")\n",
    "PaperJournalCSV = pd.read_csv(\"paper_journal.csv\")\n",
    "PaperReferenceCSV = pd.read_csv(\"paper_reference.csv\")\n",
    "PaperTopicCSV = pd.read_csv(\"paper_topic.csv\")\n",
    "PaperCSV = pd.read_csv(\"paper.csv\", low_memory=False)"
   ]
  },
  {
   "cell_type": "code",
   "execution_count": 120,
   "id": "4c1fce8b-c78a-405b-924d-9c1363bca7c3",
   "metadata": {},
   "outputs": [
    {
     "data": {
      "text/html": [
       "<div>\n",
       "<style scoped>\n",
       "    .dataframe tbody tr th:only-of-type {\n",
       "        vertical-align: middle;\n",
       "    }\n",
       "\n",
       "    .dataframe tbody tr th {\n",
       "        vertical-align: top;\n",
       "    }\n",
       "\n",
       "    .dataframe thead th {\n",
       "        text-align: right;\n",
       "    }\n",
       "</style>\n",
       "<table border=\"1\" class=\"dataframe\">\n",
       "  <thead>\n",
       "    <tr style=\"text-align: right;\">\n",
       "      <th></th>\n",
       "      <th>Author ID</th>\n",
       "      <th>Author Name</th>\n",
       "      <th>Author URL</th>\n",
       "    </tr>\n",
       "  </thead>\n",
       "  <tbody>\n",
       "    <tr>\n",
       "      <th>0</th>\n",
       "      <td>39481716</td>\n",
       "      <td>m. corry</td>\n",
       "      <td>https://www.semanticscholar.org/author/39481716</td>\n",
       "    </tr>\n",
       "    <tr>\n",
       "      <th>1</th>\n",
       "      <td>1400383433</td>\n",
       "      <td>catalina amuedo-dorantes</td>\n",
       "      <td>https://www.semanticscholar.org/author/1400383433</td>\n",
       "    </tr>\n",
       "    <tr>\n",
       "      <th>2</th>\n",
       "      <td>4059419</td>\n",
       "      <td>cynthia bansak</td>\n",
       "      <td>https://www.semanticscholar.org/author/4059419</td>\n",
       "    </tr>\n",
       "  </tbody>\n",
       "</table>\n",
       "</div>"
      ],
      "text/plain": [
       "    Author ID               Author Name  \\\n",
       "0    39481716                  m. corry   \n",
       "1  1400383433  catalina amuedo-dorantes   \n",
       "2     4059419            cynthia bansak   \n",
       "\n",
       "                                          Author URL  \n",
       "0    https://www.semanticscholar.org/author/39481716  \n",
       "1  https://www.semanticscholar.org/author/1400383433  \n",
       "2     https://www.semanticscholar.org/author/4059419  "
      ]
     },
     "execution_count": 120,
     "metadata": {},
     "output_type": "execute_result"
    }
   ],
   "source": [
    "AuthorCSV.head(3)"
   ]
  },
  {
   "cell_type": "code",
   "execution_count": 79,
   "id": "ff923e72-1b6d-4634-9de2-58bcc14c1117",
   "metadata": {},
   "outputs": [
    {
     "data": {
      "text/html": [
       "<div>\n",
       "<style scoped>\n",
       "    .dataframe tbody tr th:only-of-type {\n",
       "        vertical-align: middle;\n",
       "    }\n",
       "\n",
       "    .dataframe tbody tr th {\n",
       "        vertical-align: top;\n",
       "    }\n",
       "\n",
       "    .dataframe thead th {\n",
       "        text-align: right;\n",
       "    }\n",
       "</style>\n",
       "<table border=\"1\" class=\"dataframe\">\n",
       "  <thead>\n",
       "    <tr style=\"text-align: right;\">\n",
       "      <th></th>\n",
       "      <th>Author ID</th>\n",
       "      <th>Paper ID</th>\n",
       "    </tr>\n",
       "  </thead>\n",
       "  <tbody>\n",
       "    <tr>\n",
       "      <th>0</th>\n",
       "      <td>13549554</td>\n",
       "      <td>0d956c858ee99bf830e816fe446da13f86e0b020</td>\n",
       "    </tr>\n",
       "    <tr>\n",
       "      <th>1</th>\n",
       "      <td>120815555</td>\n",
       "      <td>81904327e0501907a0c7a364c592fdf984a7812c</td>\n",
       "    </tr>\n",
       "    <tr>\n",
       "      <th>2</th>\n",
       "      <td>4965059</td>\n",
       "      <td>e3e1bdf96e23151eff6adadada0c71b474dede49</td>\n",
       "    </tr>\n",
       "  </tbody>\n",
       "</table>\n",
       "</div>"
      ],
      "text/plain": [
       "   Author ID                                  Paper ID\n",
       "0   13549554  0d956c858ee99bf830e816fe446da13f86e0b020\n",
       "1  120815555  81904327e0501907a0c7a364c592fdf984a7812c\n",
       "2    4965059  e3e1bdf96e23151eff6adadada0c71b474dede49"
      ]
     },
     "execution_count": 79,
     "metadata": {},
     "output_type": "execute_result"
    }
   ],
   "source": [
    "Author_PaperCSV.head(3)"
   ]
  },
  {
   "cell_type": "code",
   "execution_count": 85,
   "id": "65a0b34a-d0c8-4618-9f87-d4557b69bd01",
   "metadata": {},
   "outputs": [
    {
     "data": {
      "text/html": [
       "<div>\n",
       "<style scoped>\n",
       "    .dataframe tbody tr th:only-of-type {\n",
       "        vertical-align: middle;\n",
       "    }\n",
       "\n",
       "    .dataframe tbody tr th {\n",
       "        vertical-align: top;\n",
       "    }\n",
       "\n",
       "    .dataframe thead th {\n",
       "        text-align: right;\n",
       "    }\n",
       "</style>\n",
       "<table border=\"1\" class=\"dataframe\">\n",
       "  <thead>\n",
       "    <tr style=\"text-align: right;\">\n",
       "      <th></th>\n",
       "      <th>Journal Name</th>\n",
       "      <th>Journal Publisher</th>\n",
       "    </tr>\n",
       "  </thead>\n",
       "  <tbody>\n",
       "    <tr>\n",
       "      <th>0</th>\n",
       "      <td>Journal of Immigrant and Refugee Studies</td>\n",
       "      <td>Routledgeinfo@tandf.co.uk</td>\n",
       "    </tr>\n",
       "    <tr>\n",
       "      <th>1</th>\n",
       "      <td>Identities</td>\n",
       "      <td>Taylor and Francis Ltd.</td>\n",
       "    </tr>\n",
       "    <tr>\n",
       "      <th>2</th>\n",
       "      <td>Ethnic and Racial Studies</td>\n",
       "      <td>Routledge</td>\n",
       "    </tr>\n",
       "  </tbody>\n",
       "</table>\n",
       "</div>"
      ],
      "text/plain": [
       "                               Journal Name          Journal Publisher\n",
       "0  Journal of Immigrant and Refugee Studies  Routledgeinfo@tandf.co.uk\n",
       "1                                Identities    Taylor and Francis Ltd.\n",
       "2                 Ethnic and Racial Studies                  Routledge"
      ]
     },
     "execution_count": 85,
     "metadata": {},
     "output_type": "execute_result"
    }
   ],
   "source": [
    "JournalCSV.head(3)"
   ]
  },
  {
   "cell_type": "code",
   "execution_count": 83,
   "id": "43f477a6-9163-4b28-a6d6-a416d187ce50",
   "metadata": {},
   "outputs": [
    {
     "data": {
      "text/html": [
       "<div>\n",
       "<style scoped>\n",
       "    .dataframe tbody tr th:only-of-type {\n",
       "        vertical-align: middle;\n",
       "    }\n",
       "\n",
       "    .dataframe tbody tr th {\n",
       "        vertical-align: top;\n",
       "    }\n",
       "\n",
       "    .dataframe thead th {\n",
       "        text-align: right;\n",
       "    }\n",
       "</style>\n",
       "<table border=\"1\" class=\"dataframe\">\n",
       "  <thead>\n",
       "    <tr style=\"text-align: right;\">\n",
       "      <th></th>\n",
       "      <th>Topic ID</th>\n",
       "      <th>Topic Name</th>\n",
       "      <th>Topic URL</th>\n",
       "    </tr>\n",
       "  </thead>\n",
       "  <tbody>\n",
       "    <tr>\n",
       "      <th>0</th>\n",
       "      <td>365920</td>\n",
       "      <td>corrigendum</td>\n",
       "      <td>https://www.semanticscholar.org/topic/365920</td>\n",
       "    </tr>\n",
       "    <tr>\n",
       "      <th>1</th>\n",
       "      <td>2460</td>\n",
       "      <td>Volume</td>\n",
       "      <td>https://www.semanticscholar.org/topic/2460</td>\n",
       "    </tr>\n",
       "    <tr>\n",
       "      <th>2</th>\n",
       "      <td>4169797</td>\n",
       "      <td>latin language</td>\n",
       "      <td>https://www.semanticscholar.org/topic/4169797</td>\n",
       "    </tr>\n",
       "  </tbody>\n",
       "</table>\n",
       "</div>"
      ],
      "text/plain": [
       "   Topic ID      Topic Name                                      Topic URL\n",
       "0    365920     corrigendum   https://www.semanticscholar.org/topic/365920\n",
       "1      2460          Volume     https://www.semanticscholar.org/topic/2460\n",
       "2   4169797  latin language  https://www.semanticscholar.org/topic/4169797"
      ]
     },
     "execution_count": 83,
     "metadata": {},
     "output_type": "execute_result"
    }
   ],
   "source": [
    "TopicCSV.head(3)"
   ]
  },
  {
   "cell_type": "code",
   "execution_count": 112,
   "id": "a1d90fa6-1af6-41c5-bead-48789f0b6119",
   "metadata": {},
   "outputs": [
    {
     "data": {
      "text/html": [
       "<div>\n",
       "<style scoped>\n",
       "    .dataframe tbody tr th:only-of-type {\n",
       "        vertical-align: middle;\n",
       "    }\n",
       "\n",
       "    .dataframe tbody tr th {\n",
       "        vertical-align: top;\n",
       "    }\n",
       "\n",
       "    .dataframe thead th {\n",
       "        text-align: right;\n",
       "    }\n",
       "</style>\n",
       "<table border=\"1\" class=\"dataframe\">\n",
       "  <thead>\n",
       "    <tr style=\"text-align: right;\">\n",
       "      <th></th>\n",
       "      <th>Paper ID</th>\n",
       "      <th>Journal Name</th>\n",
       "      <th>Journal Publisher</th>\n",
       "    </tr>\n",
       "  </thead>\n",
       "  <tbody>\n",
       "    <tr>\n",
       "      <th>0</th>\n",
       "      <td>4301e6749a626fe36567e53f49fa5a247ba28dd7</td>\n",
       "      <td>Journal of Ethnic and Migration Studies</td>\n",
       "      <td>Routledgeinfo@tandf.co.uk</td>\n",
       "    </tr>\n",
       "    <tr>\n",
       "      <th>1</th>\n",
       "      <td>2c84d9e3c279717276f85352970a12b2c318fa6e</td>\n",
       "      <td>Journal of Black Studies</td>\n",
       "      <td>NaN</td>\n",
       "    </tr>\n",
       "    <tr>\n",
       "      <th>2</th>\n",
       "      <td>e80d8babbb18afbdc4ac3ccd5d19b578d790a94e</td>\n",
       "      <td>Patterns of Prejudice</td>\n",
       "      <td>NaN</td>\n",
       "    </tr>\n",
       "  </tbody>\n",
       "</table>\n",
       "</div>"
      ],
      "text/plain": [
       "                                   Paper ID  \\\n",
       "0  4301e6749a626fe36567e53f49fa5a247ba28dd7   \n",
       "1  2c84d9e3c279717276f85352970a12b2c318fa6e   \n",
       "2  e80d8babbb18afbdc4ac3ccd5d19b578d790a94e   \n",
       "\n",
       "                              Journal Name          Journal Publisher  \n",
       "0  Journal of Ethnic and Migration Studies  Routledgeinfo@tandf.co.uk  \n",
       "1                 Journal of Black Studies                        NaN  \n",
       "2                    Patterns of Prejudice                        NaN  "
      ]
     },
     "execution_count": 112,
     "metadata": {},
     "output_type": "execute_result"
    }
   ],
   "source": [
    "PaperJournalCSV.head(3)"
   ]
  },
  {
   "cell_type": "code",
   "execution_count": 114,
   "id": "562a1c5b-ec56-4c18-83c7-2d07b66fdd89",
   "metadata": {},
   "outputs": [
    {
     "data": {
      "text/html": [
       "<div>\n",
       "<style scoped>\n",
       "    .dataframe tbody tr th:only-of-type {\n",
       "        vertical-align: middle;\n",
       "    }\n",
       "\n",
       "    .dataframe tbody tr th {\n",
       "        vertical-align: top;\n",
       "    }\n",
       "\n",
       "    .dataframe thead th {\n",
       "        text-align: right;\n",
       "    }\n",
       "</style>\n",
       "<table border=\"1\" class=\"dataframe\">\n",
       "  <thead>\n",
       "    <tr style=\"text-align: right;\">\n",
       "      <th></th>\n",
       "      <th>Paper ID</th>\n",
       "      <th>Referenced Paper ID</th>\n",
       "    </tr>\n",
       "  </thead>\n",
       "  <tbody>\n",
       "    <tr>\n",
       "      <th>0</th>\n",
       "      <td>61947b0f3397247c43f75cf7b155651c463ae335</td>\n",
       "      <td>b87c108607688fe11b8cfe0b1374efcaa52f8c8e</td>\n",
       "    </tr>\n",
       "    <tr>\n",
       "      <th>1</th>\n",
       "      <td>92fd5a378f9188503f34b99d423646afa99c8789</td>\n",
       "      <td>25344b0e9215e4b32b5d72e229e4b54f1b532f21</td>\n",
       "    </tr>\n",
       "    <tr>\n",
       "      <th>2</th>\n",
       "      <td>6e8db759eed9b7a7ae2de194e22c727f44f91809</td>\n",
       "      <td>46d44a00406185ba54913ec58ccf7c4e1497f7a2</td>\n",
       "    </tr>\n",
       "  </tbody>\n",
       "</table>\n",
       "</div>"
      ],
      "text/plain": [
       "                                   Paper ID  \\\n",
       "0  61947b0f3397247c43f75cf7b155651c463ae335   \n",
       "1  92fd5a378f9188503f34b99d423646afa99c8789   \n",
       "2  6e8db759eed9b7a7ae2de194e22c727f44f91809   \n",
       "\n",
       "                        Referenced Paper ID  \n",
       "0  b87c108607688fe11b8cfe0b1374efcaa52f8c8e  \n",
       "1  25344b0e9215e4b32b5d72e229e4b54f1b532f21  \n",
       "2  46d44a00406185ba54913ec58ccf7c4e1497f7a2  "
      ]
     },
     "execution_count": 114,
     "metadata": {},
     "output_type": "execute_result"
    }
   ],
   "source": [
    "PaperReferenceCSV.head(3)"
   ]
  },
  {
   "cell_type": "code",
   "execution_count": 116,
   "id": "3b59ce37-d3e9-4394-97ae-0549ace1d129",
   "metadata": {},
   "outputs": [
    {
     "data": {
      "text/html": [
       "<div>\n",
       "<style scoped>\n",
       "    .dataframe tbody tr th:only-of-type {\n",
       "        vertical-align: middle;\n",
       "    }\n",
       "\n",
       "    .dataframe tbody tr th {\n",
       "        vertical-align: top;\n",
       "    }\n",
       "\n",
       "    .dataframe thead th {\n",
       "        text-align: right;\n",
       "    }\n",
       "</style>\n",
       "<table border=\"1\" class=\"dataframe\">\n",
       "  <thead>\n",
       "    <tr style=\"text-align: right;\">\n",
       "      <th></th>\n",
       "      <th>Paper ID</th>\n",
       "      <th>Topic ID</th>\n",
       "    </tr>\n",
       "  </thead>\n",
       "  <tbody>\n",
       "    <tr>\n",
       "      <th>0</th>\n",
       "      <td>5b16e3ae5ec6d6103d1d61c7586dea96cfc1ffe3</td>\n",
       "      <td>330</td>\n",
       "    </tr>\n",
       "    <tr>\n",
       "      <th>1</th>\n",
       "      <td>012e84fb5e8680d281eb92523cdd3f59a6a7e014</td>\n",
       "      <td>480</td>\n",
       "    </tr>\n",
       "    <tr>\n",
       "      <th>2</th>\n",
       "      <td>e446c5770cb0a7de87d593f2c1d67a78582a1732</td>\n",
       "      <td>1093</td>\n",
       "    </tr>\n",
       "  </tbody>\n",
       "</table>\n",
       "</div>"
      ],
      "text/plain": [
       "                                   Paper ID  Topic ID\n",
       "0  5b16e3ae5ec6d6103d1d61c7586dea96cfc1ffe3       330\n",
       "1  012e84fb5e8680d281eb92523cdd3f59a6a7e014       480\n",
       "2  e446c5770cb0a7de87d593f2c1d67a78582a1732      1093"
      ]
     },
     "execution_count": 116,
     "metadata": {},
     "output_type": "execute_result"
    }
   ],
   "source": [
    "PaperTopicCSV.head(3)"
   ]
  },
  {
   "cell_type": "code",
   "execution_count": 118,
   "id": "ab41be09-cf63-430b-95db-039a0ad4326c",
   "metadata": {},
   "outputs": [
    {
     "data": {
      "text/html": [
       "<div>\n",
       "<style scoped>\n",
       "    .dataframe tbody tr th:only-of-type {\n",
       "        vertical-align: middle;\n",
       "    }\n",
       "\n",
       "    .dataframe tbody tr th {\n",
       "        vertical-align: top;\n",
       "    }\n",
       "\n",
       "    .dataframe thead th {\n",
       "        text-align: right;\n",
       "    }\n",
       "</style>\n",
       "<table border=\"1\" class=\"dataframe\">\n",
       "  <thead>\n",
       "    <tr style=\"text-align: right;\">\n",
       "      <th></th>\n",
       "      <th>Paper ID</th>\n",
       "      <th>Paper DOI</th>\n",
       "      <th>Paper Title</th>\n",
       "      <th>Paper Year</th>\n",
       "      <th>Paper URL</th>\n",
       "      <th>Paper Citation Count</th>\n",
       "      <th>Fields of Study</th>\n",
       "      <th>Journal Volume</th>\n",
       "      <th>Journal Date</th>\n",
       "    </tr>\n",
       "  </thead>\n",
       "  <tbody>\n",
       "    <tr>\n",
       "      <th>0</th>\n",
       "      <td>86890c2cc83b19d8a2ce7dbe7230e14ea68dbee7</td>\n",
       "      <td>10.1080/1070289x.2017.1304725</td>\n",
       "      <td>corrigendum</td>\n",
       "      <td>NaN</td>\n",
       "      <td>https://www.semanticscholar.org/paper/86890c2c...</td>\n",
       "      <td>0.0</td>\n",
       "      <td>Medicine</td>\n",
       "      <td>25</td>\n",
       "      <td>2018-11-02</td>\n",
       "    </tr>\n",
       "    <tr>\n",
       "      <th>1</th>\n",
       "      <td>43f7a8ee7ecabfe5ad85dfd17f8d9a0e86ea083a</td>\n",
       "      <td>10.1177/0197918320920192</td>\n",
       "      <td>refugee admissions and public safety: are refu...</td>\n",
       "      <td>NaN</td>\n",
       "      <td>https://www.semanticscholar.org/paper/43f7a8ee...</td>\n",
       "      <td>0.0</td>\n",
       "      <td>Political Science</td>\n",
       "      <td>NaN</td>\n",
       "      <td>2020-01-01</td>\n",
       "    </tr>\n",
       "    <tr>\n",
       "      <th>2</th>\n",
       "      <td>paper1</td>\n",
       "      <td>NaN</td>\n",
       "      <td>trump orders mexican border wall to be built a...</td>\n",
       "      <td>NaN</td>\n",
       "      <td>NaN</td>\n",
       "      <td>NaN</td>\n",
       "      <td>NaN</td>\n",
       "      <td>NaN</td>\n",
       "      <td>NaN</td>\n",
       "    </tr>\n",
       "  </tbody>\n",
       "</table>\n",
       "</div>"
      ],
      "text/plain": [
       "                                   Paper ID                      Paper DOI  \\\n",
       "0  86890c2cc83b19d8a2ce7dbe7230e14ea68dbee7  10.1080/1070289x.2017.1304725   \n",
       "1  43f7a8ee7ecabfe5ad85dfd17f8d9a0e86ea083a       10.1177/0197918320920192   \n",
       "2                                    paper1                            NaN   \n",
       "\n",
       "                                         Paper Title  Paper Year  \\\n",
       "0                                        corrigendum         NaN   \n",
       "1  refugee admissions and public safety: are refu...         NaN   \n",
       "2  trump orders mexican border wall to be built a...         NaN   \n",
       "\n",
       "                                           Paper URL  Paper Citation Count  \\\n",
       "0  https://www.semanticscholar.org/paper/86890c2c...                   0.0   \n",
       "1  https://www.semanticscholar.org/paper/43f7a8ee...                   0.0   \n",
       "2                                                NaN                   NaN   \n",
       "\n",
       "     Fields of Study Journal Volume Journal Date  \n",
       "0           Medicine             25   2018-11-02  \n",
       "1  Political Science            NaN   2020-01-01  \n",
       "2                NaN            NaN          NaN  "
      ]
     },
     "execution_count": 118,
     "metadata": {},
     "output_type": "execute_result"
    }
   ],
   "source": [
    "PaperCSV.head(3)"
   ]
  },
  {
   "cell_type": "code",
   "execution_count": 10,
   "id": "81d8d454-a611-4de9-bf1f-a1f1be67c7c5",
   "metadata": {},
   "outputs": [],
   "source": [
    "# List of DataFrames to process\n",
    "dataframes = {\n",
    "    \"AuthorCSV\": AuthorCSV,\n",
    "    \"Author_PaperCSV\": Author_PaperCSV,\n",
    "    \"JournalCSV\": JournalCSV,\n",
    "    \"TopicCSV\": TopicCSV,\n",
    "    \"PaperJournalCSV\": PaperJournalCSV,\n",
    "    \"PaperReferenceCSV\": PaperReferenceCSV,\n",
    "    \"PaperTopicCSV\": PaperTopicCSV,\n",
    "    \"PaperCSV\": PaperCSV\n",
    "}\n",
    "\n",
    "# # Loop over DataFrames to print size and missing values\n",
    "# for df_name, df in dataframes.items():\n",
    "#     print(f\"\\nThe size of {df_name}:\")\n",
    "#     print(df.shape)\n",
    "#     print(f\"Finding out the total Null values in {df_name}:\")\n",
    "#     print(df.isnull().sum())"
   ]
  },
  {
   "cell_type": "code",
   "execution_count": 12,
   "id": "6c386d96-369b-4182-8401-5fd0d3809ee2",
   "metadata": {},
   "outputs": [
    {
     "name": "stdout",
     "output_type": "stream",
     "text": [
      "\n",
      "--------------------\n"
     ]
    },
    {
     "data": {
      "text/markdown": [
       "### Dataset: `AuthorCSV`"
      ],
      "text/plain": [
       "<IPython.core.display.Markdown object>"
      ]
     },
     "metadata": {},
     "output_type": "display_data"
    },
    {
     "data": {
      "text/markdown": [
       "**Shape:** (38925, 3)"
      ],
      "text/plain": [
       "<IPython.core.display.Markdown object>"
      ]
     },
     "metadata": {},
     "output_type": "display_data"
    },
    {
     "data": {
      "text/markdown": [
       "**Data types:**"
      ],
      "text/plain": [
       "<IPython.core.display.Markdown object>"
      ]
     },
     "metadata": {},
     "output_type": "display_data"
    },
    {
     "data": {
      "text/html": [
       "<div>\n",
       "<style scoped>\n",
       "    .dataframe tbody tr th:only-of-type {\n",
       "        vertical-align: middle;\n",
       "    }\n",
       "\n",
       "    .dataframe tbody tr th {\n",
       "        vertical-align: top;\n",
       "    }\n",
       "\n",
       "    .dataframe thead th {\n",
       "        text-align: right;\n",
       "    }\n",
       "</style>\n",
       "<table border=\"1\" class=\"dataframe\">\n",
       "  <thead>\n",
       "    <tr style=\"text-align: right;\">\n",
       "      <th></th>\n",
       "      <th>dtype</th>\n",
       "    </tr>\n",
       "  </thead>\n",
       "  <tbody>\n",
       "    <tr>\n",
       "      <th>Author ID</th>\n",
       "      <td>object</td>\n",
       "    </tr>\n",
       "    <tr>\n",
       "      <th>Author Name</th>\n",
       "      <td>object</td>\n",
       "    </tr>\n",
       "    <tr>\n",
       "      <th>Author URL</th>\n",
       "      <td>object</td>\n",
       "    </tr>\n",
       "  </tbody>\n",
       "</table>\n",
       "</div>"
      ],
      "text/plain": [
       "              dtype\n",
       "Author ID    object\n",
       "Author Name  object\n",
       "Author URL   object"
      ]
     },
     "metadata": {},
     "output_type": "display_data"
    },
    {
     "data": {
      "text/markdown": [
       "**Null value count:**"
      ],
      "text/plain": [
       "<IPython.core.display.Markdown object>"
      ]
     },
     "metadata": {},
     "output_type": "display_data"
    },
    {
     "data": {
      "text/html": [
       "<div>\n",
       "<style scoped>\n",
       "    .dataframe tbody tr th:only-of-type {\n",
       "        vertical-align: middle;\n",
       "    }\n",
       "\n",
       "    .dataframe tbody tr th {\n",
       "        vertical-align: top;\n",
       "    }\n",
       "\n",
       "    .dataframe thead th {\n",
       "        text-align: right;\n",
       "    }\n",
       "</style>\n",
       "<table border=\"1\" class=\"dataframe\">\n",
       "  <thead>\n",
       "    <tr style=\"text-align: right;\">\n",
       "      <th></th>\n",
       "      <th>null_count</th>\n",
       "    </tr>\n",
       "  </thead>\n",
       "  <tbody>\n",
       "    <tr>\n",
       "      <th>Author ID</th>\n",
       "      <td>0</td>\n",
       "    </tr>\n",
       "    <tr>\n",
       "      <th>Author Name</th>\n",
       "      <td>0</td>\n",
       "    </tr>\n",
       "    <tr>\n",
       "      <th>Author URL</th>\n",
       "      <td>72</td>\n",
       "    </tr>\n",
       "  </tbody>\n",
       "</table>\n",
       "</div>"
      ],
      "text/plain": [
       "             null_count\n",
       "Author ID             0\n",
       "Author Name           0\n",
       "Author URL           72"
      ]
     },
     "metadata": {},
     "output_type": "display_data"
    },
    {
     "data": {
      "text/markdown": [
       "**Missing value percentages:**"
      ],
      "text/plain": [
       "<IPython.core.display.Markdown object>"
      ]
     },
     "metadata": {},
     "output_type": "display_data"
    },
    {
     "data": {
      "text/html": [
       "<div>\n",
       "<style scoped>\n",
       "    .dataframe tbody tr th:only-of-type {\n",
       "        vertical-align: middle;\n",
       "    }\n",
       "\n",
       "    .dataframe tbody tr th {\n",
       "        vertical-align: top;\n",
       "    }\n",
       "\n",
       "    .dataframe thead th {\n",
       "        text-align: right;\n",
       "    }\n",
       "</style>\n",
       "<table border=\"1\" class=\"dataframe\">\n",
       "  <thead>\n",
       "    <tr style=\"text-align: right;\">\n",
       "      <th></th>\n",
       "      <th>column_name</th>\n",
       "      <th>percent_missing</th>\n",
       "    </tr>\n",
       "  </thead>\n",
       "  <tbody>\n",
       "    <tr>\n",
       "      <th>0</th>\n",
       "      <td>Author URL</td>\n",
       "      <td>0.18</td>\n",
       "    </tr>\n",
       "    <tr>\n",
       "      <th>1</th>\n",
       "      <td>Author ID</td>\n",
       "      <td>0.00</td>\n",
       "    </tr>\n",
       "    <tr>\n",
       "      <th>2</th>\n",
       "      <td>Author Name</td>\n",
       "      <td>0.00</td>\n",
       "    </tr>\n",
       "  </tbody>\n",
       "</table>\n",
       "</div>"
      ],
      "text/plain": [
       "   column_name  percent_missing\n",
       "0   Author URL             0.18\n",
       "1    Author ID             0.00\n",
       "2  Author Name             0.00"
      ]
     },
     "metadata": {},
     "output_type": "display_data"
    },
    {
     "name": "stdout",
     "output_type": "stream",
     "text": [
      "\n",
      "--------------------\n"
     ]
    },
    {
     "data": {
      "text/markdown": [
       "### Dataset: `Author_PaperCSV`"
      ],
      "text/plain": [
       "<IPython.core.display.Markdown object>"
      ]
     },
     "metadata": {},
     "output_type": "display_data"
    },
    {
     "data": {
      "text/markdown": [
       "**Shape:** (56450, 2)"
      ],
      "text/plain": [
       "<IPython.core.display.Markdown object>"
      ]
     },
     "metadata": {},
     "output_type": "display_data"
    },
    {
     "data": {
      "text/markdown": [
       "**Data types:**"
      ],
      "text/plain": [
       "<IPython.core.display.Markdown object>"
      ]
     },
     "metadata": {},
     "output_type": "display_data"
    },
    {
     "data": {
      "text/html": [
       "<div>\n",
       "<style scoped>\n",
       "    .dataframe tbody tr th:only-of-type {\n",
       "        vertical-align: middle;\n",
       "    }\n",
       "\n",
       "    .dataframe tbody tr th {\n",
       "        vertical-align: top;\n",
       "    }\n",
       "\n",
       "    .dataframe thead th {\n",
       "        text-align: right;\n",
       "    }\n",
       "</style>\n",
       "<table border=\"1\" class=\"dataframe\">\n",
       "  <thead>\n",
       "    <tr style=\"text-align: right;\">\n",
       "      <th></th>\n",
       "      <th>dtype</th>\n",
       "    </tr>\n",
       "  </thead>\n",
       "  <tbody>\n",
       "    <tr>\n",
       "      <th>Author ID</th>\n",
       "      <td>object</td>\n",
       "    </tr>\n",
       "    <tr>\n",
       "      <th>Paper ID</th>\n",
       "      <td>object</td>\n",
       "    </tr>\n",
       "  </tbody>\n",
       "</table>\n",
       "</div>"
      ],
      "text/plain": [
       "            dtype\n",
       "Author ID  object\n",
       "Paper ID   object"
      ]
     },
     "metadata": {},
     "output_type": "display_data"
    },
    {
     "data": {
      "text/markdown": [
       "**Null value count:**"
      ],
      "text/plain": [
       "<IPython.core.display.Markdown object>"
      ]
     },
     "metadata": {},
     "output_type": "display_data"
    },
    {
     "data": {
      "text/html": [
       "<div>\n",
       "<style scoped>\n",
       "    .dataframe tbody tr th:only-of-type {\n",
       "        vertical-align: middle;\n",
       "    }\n",
       "\n",
       "    .dataframe tbody tr th {\n",
       "        vertical-align: top;\n",
       "    }\n",
       "\n",
       "    .dataframe thead th {\n",
       "        text-align: right;\n",
       "    }\n",
       "</style>\n",
       "<table border=\"1\" class=\"dataframe\">\n",
       "  <thead>\n",
       "    <tr style=\"text-align: right;\">\n",
       "      <th></th>\n",
       "      <th>null_count</th>\n",
       "    </tr>\n",
       "  </thead>\n",
       "  <tbody>\n",
       "    <tr>\n",
       "      <th>Author ID</th>\n",
       "      <td>0</td>\n",
       "    </tr>\n",
       "    <tr>\n",
       "      <th>Paper ID</th>\n",
       "      <td>0</td>\n",
       "    </tr>\n",
       "  </tbody>\n",
       "</table>\n",
       "</div>"
      ],
      "text/plain": [
       "           null_count\n",
       "Author ID           0\n",
       "Paper ID            0"
      ]
     },
     "metadata": {},
     "output_type": "display_data"
    },
    {
     "data": {
      "text/markdown": [
       "**Missing value percentages:**"
      ],
      "text/plain": [
       "<IPython.core.display.Markdown object>"
      ]
     },
     "metadata": {},
     "output_type": "display_data"
    },
    {
     "data": {
      "text/html": [
       "<div>\n",
       "<style scoped>\n",
       "    .dataframe tbody tr th:only-of-type {\n",
       "        vertical-align: middle;\n",
       "    }\n",
       "\n",
       "    .dataframe tbody tr th {\n",
       "        vertical-align: top;\n",
       "    }\n",
       "\n",
       "    .dataframe thead th {\n",
       "        text-align: right;\n",
       "    }\n",
       "</style>\n",
       "<table border=\"1\" class=\"dataframe\">\n",
       "  <thead>\n",
       "    <tr style=\"text-align: right;\">\n",
       "      <th></th>\n",
       "      <th>column_name</th>\n",
       "      <th>percent_missing</th>\n",
       "    </tr>\n",
       "  </thead>\n",
       "  <tbody>\n",
       "    <tr>\n",
       "      <th>0</th>\n",
       "      <td>Author ID</td>\n",
       "      <td>0.0</td>\n",
       "    </tr>\n",
       "    <tr>\n",
       "      <th>1</th>\n",
       "      <td>Paper ID</td>\n",
       "      <td>0.0</td>\n",
       "    </tr>\n",
       "  </tbody>\n",
       "</table>\n",
       "</div>"
      ],
      "text/plain": [
       "  column_name  percent_missing\n",
       "0   Author ID              0.0\n",
       "1    Paper ID              0.0"
      ]
     },
     "metadata": {},
     "output_type": "display_data"
    },
    {
     "name": "stdout",
     "output_type": "stream",
     "text": [
      "\n",
      "--------------------\n"
     ]
    },
    {
     "data": {
      "text/markdown": [
       "### Dataset: `JournalCSV`"
      ],
      "text/plain": [
       "<IPython.core.display.Markdown object>"
      ]
     },
     "metadata": {},
     "output_type": "display_data"
    },
    {
     "data": {
      "text/markdown": [
       "**Shape:** (165, 2)"
      ],
      "text/plain": [
       "<IPython.core.display.Markdown object>"
      ]
     },
     "metadata": {},
     "output_type": "display_data"
    },
    {
     "data": {
      "text/markdown": [
       "**Data types:**"
      ],
      "text/plain": [
       "<IPython.core.display.Markdown object>"
      ]
     },
     "metadata": {},
     "output_type": "display_data"
    },
    {
     "data": {
      "text/html": [
       "<div>\n",
       "<style scoped>\n",
       "    .dataframe tbody tr th:only-of-type {\n",
       "        vertical-align: middle;\n",
       "    }\n",
       "\n",
       "    .dataframe tbody tr th {\n",
       "        vertical-align: top;\n",
       "    }\n",
       "\n",
       "    .dataframe thead th {\n",
       "        text-align: right;\n",
       "    }\n",
       "</style>\n",
       "<table border=\"1\" class=\"dataframe\">\n",
       "  <thead>\n",
       "    <tr style=\"text-align: right;\">\n",
       "      <th></th>\n",
       "      <th>dtype</th>\n",
       "    </tr>\n",
       "  </thead>\n",
       "  <tbody>\n",
       "    <tr>\n",
       "      <th>Journal Name</th>\n",
       "      <td>object</td>\n",
       "    </tr>\n",
       "    <tr>\n",
       "      <th>Journal Publisher</th>\n",
       "      <td>object</td>\n",
       "    </tr>\n",
       "  </tbody>\n",
       "</table>\n",
       "</div>"
      ],
      "text/plain": [
       "                    dtype\n",
       "Journal Name       object\n",
       "Journal Publisher  object"
      ]
     },
     "metadata": {},
     "output_type": "display_data"
    },
    {
     "data": {
      "text/markdown": [
       "**Null value count:**"
      ],
      "text/plain": [
       "<IPython.core.display.Markdown object>"
      ]
     },
     "metadata": {},
     "output_type": "display_data"
    },
    {
     "data": {
      "text/html": [
       "<div>\n",
       "<style scoped>\n",
       "    .dataframe tbody tr th:only-of-type {\n",
       "        vertical-align: middle;\n",
       "    }\n",
       "\n",
       "    .dataframe tbody tr th {\n",
       "        vertical-align: top;\n",
       "    }\n",
       "\n",
       "    .dataframe thead th {\n",
       "        text-align: right;\n",
       "    }\n",
       "</style>\n",
       "<table border=\"1\" class=\"dataframe\">\n",
       "  <thead>\n",
       "    <tr style=\"text-align: right;\">\n",
       "      <th></th>\n",
       "      <th>null_count</th>\n",
       "    </tr>\n",
       "  </thead>\n",
       "  <tbody>\n",
       "    <tr>\n",
       "      <th>Journal Name</th>\n",
       "      <td>0</td>\n",
       "    </tr>\n",
       "    <tr>\n",
       "      <th>Journal Publisher</th>\n",
       "      <td>45</td>\n",
       "    </tr>\n",
       "  </tbody>\n",
       "</table>\n",
       "</div>"
      ],
      "text/plain": [
       "                   null_count\n",
       "Journal Name                0\n",
       "Journal Publisher          45"
      ]
     },
     "metadata": {},
     "output_type": "display_data"
    },
    {
     "data": {
      "text/markdown": [
       "**Missing value percentages:**"
      ],
      "text/plain": [
       "<IPython.core.display.Markdown object>"
      ]
     },
     "metadata": {},
     "output_type": "display_data"
    },
    {
     "data": {
      "text/html": [
       "<div>\n",
       "<style scoped>\n",
       "    .dataframe tbody tr th:only-of-type {\n",
       "        vertical-align: middle;\n",
       "    }\n",
       "\n",
       "    .dataframe tbody tr th {\n",
       "        vertical-align: top;\n",
       "    }\n",
       "\n",
       "    .dataframe thead th {\n",
       "        text-align: right;\n",
       "    }\n",
       "</style>\n",
       "<table border=\"1\" class=\"dataframe\">\n",
       "  <thead>\n",
       "    <tr style=\"text-align: right;\">\n",
       "      <th></th>\n",
       "      <th>column_name</th>\n",
       "      <th>percent_missing</th>\n",
       "    </tr>\n",
       "  </thead>\n",
       "  <tbody>\n",
       "    <tr>\n",
       "      <th>0</th>\n",
       "      <td>Journal Publisher</td>\n",
       "      <td>27.27</td>\n",
       "    </tr>\n",
       "    <tr>\n",
       "      <th>1</th>\n",
       "      <td>Journal Name</td>\n",
       "      <td>0.00</td>\n",
       "    </tr>\n",
       "  </tbody>\n",
       "</table>\n",
       "</div>"
      ],
      "text/plain": [
       "         column_name  percent_missing\n",
       "0  Journal Publisher            27.27\n",
       "1       Journal Name             0.00"
      ]
     },
     "metadata": {},
     "output_type": "display_data"
    },
    {
     "name": "stdout",
     "output_type": "stream",
     "text": [
      "\n",
      "--------------------\n"
     ]
    },
    {
     "data": {
      "text/markdown": [
       "### Dataset: `TopicCSV`"
      ],
      "text/plain": [
       "<IPython.core.display.Markdown object>"
      ]
     },
     "metadata": {},
     "output_type": "display_data"
    },
    {
     "data": {
      "text/markdown": [
       "**Shape:** (6489, 3)"
      ],
      "text/plain": [
       "<IPython.core.display.Markdown object>"
      ]
     },
     "metadata": {},
     "output_type": "display_data"
    },
    {
     "data": {
      "text/markdown": [
       "**Data types:**"
      ],
      "text/plain": [
       "<IPython.core.display.Markdown object>"
      ]
     },
     "metadata": {},
     "output_type": "display_data"
    },
    {
     "data": {
      "text/html": [
       "<div>\n",
       "<style scoped>\n",
       "    .dataframe tbody tr th:only-of-type {\n",
       "        vertical-align: middle;\n",
       "    }\n",
       "\n",
       "    .dataframe tbody tr th {\n",
       "        vertical-align: top;\n",
       "    }\n",
       "\n",
       "    .dataframe thead th {\n",
       "        text-align: right;\n",
       "    }\n",
       "</style>\n",
       "<table border=\"1\" class=\"dataframe\">\n",
       "  <thead>\n",
       "    <tr style=\"text-align: right;\">\n",
       "      <th></th>\n",
       "      <th>dtype</th>\n",
       "    </tr>\n",
       "  </thead>\n",
       "  <tbody>\n",
       "    <tr>\n",
       "      <th>Topic ID</th>\n",
       "      <td>int64</td>\n",
       "    </tr>\n",
       "    <tr>\n",
       "      <th>Topic Name</th>\n",
       "      <td>object</td>\n",
       "    </tr>\n",
       "    <tr>\n",
       "      <th>Topic URL</th>\n",
       "      <td>object</td>\n",
       "    </tr>\n",
       "  </tbody>\n",
       "</table>\n",
       "</div>"
      ],
      "text/plain": [
       "             dtype\n",
       "Topic ID     int64\n",
       "Topic Name  object\n",
       "Topic URL   object"
      ]
     },
     "metadata": {},
     "output_type": "display_data"
    },
    {
     "data": {
      "text/markdown": [
       "**Null value count:**"
      ],
      "text/plain": [
       "<IPython.core.display.Markdown object>"
      ]
     },
     "metadata": {},
     "output_type": "display_data"
    },
    {
     "data": {
      "text/html": [
       "<div>\n",
       "<style scoped>\n",
       "    .dataframe tbody tr th:only-of-type {\n",
       "        vertical-align: middle;\n",
       "    }\n",
       "\n",
       "    .dataframe tbody tr th {\n",
       "        vertical-align: top;\n",
       "    }\n",
       "\n",
       "    .dataframe thead th {\n",
       "        text-align: right;\n",
       "    }\n",
       "</style>\n",
       "<table border=\"1\" class=\"dataframe\">\n",
       "  <thead>\n",
       "    <tr style=\"text-align: right;\">\n",
       "      <th></th>\n",
       "      <th>null_count</th>\n",
       "    </tr>\n",
       "  </thead>\n",
       "  <tbody>\n",
       "    <tr>\n",
       "      <th>Topic ID</th>\n",
       "      <td>0</td>\n",
       "    </tr>\n",
       "    <tr>\n",
       "      <th>Topic Name</th>\n",
       "      <td>0</td>\n",
       "    </tr>\n",
       "    <tr>\n",
       "      <th>Topic URL</th>\n",
       "      <td>0</td>\n",
       "    </tr>\n",
       "  </tbody>\n",
       "</table>\n",
       "</div>"
      ],
      "text/plain": [
       "            null_count\n",
       "Topic ID             0\n",
       "Topic Name           0\n",
       "Topic URL            0"
      ]
     },
     "metadata": {},
     "output_type": "display_data"
    },
    {
     "data": {
      "text/markdown": [
       "**Missing value percentages:**"
      ],
      "text/plain": [
       "<IPython.core.display.Markdown object>"
      ]
     },
     "metadata": {},
     "output_type": "display_data"
    },
    {
     "data": {
      "text/html": [
       "<div>\n",
       "<style scoped>\n",
       "    .dataframe tbody tr th:only-of-type {\n",
       "        vertical-align: middle;\n",
       "    }\n",
       "\n",
       "    .dataframe tbody tr th {\n",
       "        vertical-align: top;\n",
       "    }\n",
       "\n",
       "    .dataframe thead th {\n",
       "        text-align: right;\n",
       "    }\n",
       "</style>\n",
       "<table border=\"1\" class=\"dataframe\">\n",
       "  <thead>\n",
       "    <tr style=\"text-align: right;\">\n",
       "      <th></th>\n",
       "      <th>column_name</th>\n",
       "      <th>percent_missing</th>\n",
       "    </tr>\n",
       "  </thead>\n",
       "  <tbody>\n",
       "    <tr>\n",
       "      <th>0</th>\n",
       "      <td>Topic ID</td>\n",
       "      <td>0.0</td>\n",
       "    </tr>\n",
       "    <tr>\n",
       "      <th>1</th>\n",
       "      <td>Topic Name</td>\n",
       "      <td>0.0</td>\n",
       "    </tr>\n",
       "    <tr>\n",
       "      <th>2</th>\n",
       "      <td>Topic URL</td>\n",
       "      <td>0.0</td>\n",
       "    </tr>\n",
       "  </tbody>\n",
       "</table>\n",
       "</div>"
      ],
      "text/plain": [
       "  column_name  percent_missing\n",
       "0    Topic ID              0.0\n",
       "1  Topic Name              0.0\n",
       "2   Topic URL              0.0"
      ]
     },
     "metadata": {},
     "output_type": "display_data"
    },
    {
     "name": "stdout",
     "output_type": "stream",
     "text": [
      "\n",
      "--------------------\n"
     ]
    },
    {
     "data": {
      "text/markdown": [
       "### Dataset: `PaperJournalCSV`"
      ],
      "text/plain": [
       "<IPython.core.display.Markdown object>"
      ]
     },
     "metadata": {},
     "output_type": "display_data"
    },
    {
     "data": {
      "text/markdown": [
       "**Shape:** (32647, 3)"
      ],
      "text/plain": [
       "<IPython.core.display.Markdown object>"
      ]
     },
     "metadata": {},
     "output_type": "display_data"
    },
    {
     "data": {
      "text/markdown": [
       "**Data types:**"
      ],
      "text/plain": [
       "<IPython.core.display.Markdown object>"
      ]
     },
     "metadata": {},
     "output_type": "display_data"
    },
    {
     "data": {
      "text/html": [
       "<div>\n",
       "<style scoped>\n",
       "    .dataframe tbody tr th:only-of-type {\n",
       "        vertical-align: middle;\n",
       "    }\n",
       "\n",
       "    .dataframe tbody tr th {\n",
       "        vertical-align: top;\n",
       "    }\n",
       "\n",
       "    .dataframe thead th {\n",
       "        text-align: right;\n",
       "    }\n",
       "</style>\n",
       "<table border=\"1\" class=\"dataframe\">\n",
       "  <thead>\n",
       "    <tr style=\"text-align: right;\">\n",
       "      <th></th>\n",
       "      <th>dtype</th>\n",
       "    </tr>\n",
       "  </thead>\n",
       "  <tbody>\n",
       "    <tr>\n",
       "      <th>Paper ID</th>\n",
       "      <td>object</td>\n",
       "    </tr>\n",
       "    <tr>\n",
       "      <th>Journal Name</th>\n",
       "      <td>object</td>\n",
       "    </tr>\n",
       "    <tr>\n",
       "      <th>Journal Publisher</th>\n",
       "      <td>object</td>\n",
       "    </tr>\n",
       "  </tbody>\n",
       "</table>\n",
       "</div>"
      ],
      "text/plain": [
       "                    dtype\n",
       "Paper ID           object\n",
       "Journal Name       object\n",
       "Journal Publisher  object"
      ]
     },
     "metadata": {},
     "output_type": "display_data"
    },
    {
     "data": {
      "text/markdown": [
       "**Null value count:**"
      ],
      "text/plain": [
       "<IPython.core.display.Markdown object>"
      ]
     },
     "metadata": {},
     "output_type": "display_data"
    },
    {
     "data": {
      "text/html": [
       "<div>\n",
       "<style scoped>\n",
       "    .dataframe tbody tr th:only-of-type {\n",
       "        vertical-align: middle;\n",
       "    }\n",
       "\n",
       "    .dataframe tbody tr th {\n",
       "        vertical-align: top;\n",
       "    }\n",
       "\n",
       "    .dataframe thead th {\n",
       "        text-align: right;\n",
       "    }\n",
       "</style>\n",
       "<table border=\"1\" class=\"dataframe\">\n",
       "  <thead>\n",
       "    <tr style=\"text-align: right;\">\n",
       "      <th></th>\n",
       "      <th>null_count</th>\n",
       "    </tr>\n",
       "  </thead>\n",
       "  <tbody>\n",
       "    <tr>\n",
       "      <th>Paper ID</th>\n",
       "      <td>0</td>\n",
       "    </tr>\n",
       "    <tr>\n",
       "      <th>Journal Name</th>\n",
       "      <td>0</td>\n",
       "    </tr>\n",
       "    <tr>\n",
       "      <th>Journal Publisher</th>\n",
       "      <td>17739</td>\n",
       "    </tr>\n",
       "  </tbody>\n",
       "</table>\n",
       "</div>"
      ],
      "text/plain": [
       "                   null_count\n",
       "Paper ID                    0\n",
       "Journal Name                0\n",
       "Journal Publisher       17739"
      ]
     },
     "metadata": {},
     "output_type": "display_data"
    },
    {
     "data": {
      "text/markdown": [
       "**Missing value percentages:**"
      ],
      "text/plain": [
       "<IPython.core.display.Markdown object>"
      ]
     },
     "metadata": {},
     "output_type": "display_data"
    },
    {
     "data": {
      "text/html": [
       "<div>\n",
       "<style scoped>\n",
       "    .dataframe tbody tr th:only-of-type {\n",
       "        vertical-align: middle;\n",
       "    }\n",
       "\n",
       "    .dataframe tbody tr th {\n",
       "        vertical-align: top;\n",
       "    }\n",
       "\n",
       "    .dataframe thead th {\n",
       "        text-align: right;\n",
       "    }\n",
       "</style>\n",
       "<table border=\"1\" class=\"dataframe\">\n",
       "  <thead>\n",
       "    <tr style=\"text-align: right;\">\n",
       "      <th></th>\n",
       "      <th>column_name</th>\n",
       "      <th>percent_missing</th>\n",
       "    </tr>\n",
       "  </thead>\n",
       "  <tbody>\n",
       "    <tr>\n",
       "      <th>0</th>\n",
       "      <td>Journal Publisher</td>\n",
       "      <td>54.34</td>\n",
       "    </tr>\n",
       "    <tr>\n",
       "      <th>1</th>\n",
       "      <td>Paper ID</td>\n",
       "      <td>0.00</td>\n",
       "    </tr>\n",
       "    <tr>\n",
       "      <th>2</th>\n",
       "      <td>Journal Name</td>\n",
       "      <td>0.00</td>\n",
       "    </tr>\n",
       "  </tbody>\n",
       "</table>\n",
       "</div>"
      ],
      "text/plain": [
       "         column_name  percent_missing\n",
       "0  Journal Publisher            54.34\n",
       "1           Paper ID             0.00\n",
       "2       Journal Name             0.00"
      ]
     },
     "metadata": {},
     "output_type": "display_data"
    },
    {
     "name": "stdout",
     "output_type": "stream",
     "text": [
      "\n",
      "--------------------\n"
     ]
    },
    {
     "data": {
      "text/markdown": [
       "### Dataset: `PaperReferenceCSV`"
      ],
      "text/plain": [
       "<IPython.core.display.Markdown object>"
      ]
     },
     "metadata": {},
     "output_type": "display_data"
    },
    {
     "data": {
      "text/markdown": [
       "**Shape:** (1132044, 2)"
      ],
      "text/plain": [
       "<IPython.core.display.Markdown object>"
      ]
     },
     "metadata": {},
     "output_type": "display_data"
    },
    {
     "data": {
      "text/markdown": [
       "**Data types:**"
      ],
      "text/plain": [
       "<IPython.core.display.Markdown object>"
      ]
     },
     "metadata": {},
     "output_type": "display_data"
    },
    {
     "data": {
      "text/html": [
       "<div>\n",
       "<style scoped>\n",
       "    .dataframe tbody tr th:only-of-type {\n",
       "        vertical-align: middle;\n",
       "    }\n",
       "\n",
       "    .dataframe tbody tr th {\n",
       "        vertical-align: top;\n",
       "    }\n",
       "\n",
       "    .dataframe thead th {\n",
       "        text-align: right;\n",
       "    }\n",
       "</style>\n",
       "<table border=\"1\" class=\"dataframe\">\n",
       "  <thead>\n",
       "    <tr style=\"text-align: right;\">\n",
       "      <th></th>\n",
       "      <th>dtype</th>\n",
       "    </tr>\n",
       "  </thead>\n",
       "  <tbody>\n",
       "    <tr>\n",
       "      <th>Paper ID</th>\n",
       "      <td>object</td>\n",
       "    </tr>\n",
       "    <tr>\n",
       "      <th>Referenced Paper ID</th>\n",
       "      <td>object</td>\n",
       "    </tr>\n",
       "  </tbody>\n",
       "</table>\n",
       "</div>"
      ],
      "text/plain": [
       "                      dtype\n",
       "Paper ID             object\n",
       "Referenced Paper ID  object"
      ]
     },
     "metadata": {},
     "output_type": "display_data"
    },
    {
     "data": {
      "text/markdown": [
       "**Null value count:**"
      ],
      "text/plain": [
       "<IPython.core.display.Markdown object>"
      ]
     },
     "metadata": {},
     "output_type": "display_data"
    },
    {
     "data": {
      "text/html": [
       "<div>\n",
       "<style scoped>\n",
       "    .dataframe tbody tr th:only-of-type {\n",
       "        vertical-align: middle;\n",
       "    }\n",
       "\n",
       "    .dataframe tbody tr th {\n",
       "        vertical-align: top;\n",
       "    }\n",
       "\n",
       "    .dataframe thead th {\n",
       "        text-align: right;\n",
       "    }\n",
       "</style>\n",
       "<table border=\"1\" class=\"dataframe\">\n",
       "  <thead>\n",
       "    <tr style=\"text-align: right;\">\n",
       "      <th></th>\n",
       "      <th>null_count</th>\n",
       "    </tr>\n",
       "  </thead>\n",
       "  <tbody>\n",
       "    <tr>\n",
       "      <th>Paper ID</th>\n",
       "      <td>0</td>\n",
       "    </tr>\n",
       "    <tr>\n",
       "      <th>Referenced Paper ID</th>\n",
       "      <td>0</td>\n",
       "    </tr>\n",
       "  </tbody>\n",
       "</table>\n",
       "</div>"
      ],
      "text/plain": [
       "                     null_count\n",
       "Paper ID                      0\n",
       "Referenced Paper ID           0"
      ]
     },
     "metadata": {},
     "output_type": "display_data"
    },
    {
     "data": {
      "text/markdown": [
       "**Missing value percentages:**"
      ],
      "text/plain": [
       "<IPython.core.display.Markdown object>"
      ]
     },
     "metadata": {},
     "output_type": "display_data"
    },
    {
     "data": {
      "text/html": [
       "<div>\n",
       "<style scoped>\n",
       "    .dataframe tbody tr th:only-of-type {\n",
       "        vertical-align: middle;\n",
       "    }\n",
       "\n",
       "    .dataframe tbody tr th {\n",
       "        vertical-align: top;\n",
       "    }\n",
       "\n",
       "    .dataframe thead th {\n",
       "        text-align: right;\n",
       "    }\n",
       "</style>\n",
       "<table border=\"1\" class=\"dataframe\">\n",
       "  <thead>\n",
       "    <tr style=\"text-align: right;\">\n",
       "      <th></th>\n",
       "      <th>column_name</th>\n",
       "      <th>percent_missing</th>\n",
       "    </tr>\n",
       "  </thead>\n",
       "  <tbody>\n",
       "    <tr>\n",
       "      <th>0</th>\n",
       "      <td>Paper ID</td>\n",
       "      <td>0.0</td>\n",
       "    </tr>\n",
       "    <tr>\n",
       "      <th>1</th>\n",
       "      <td>Referenced Paper ID</td>\n",
       "      <td>0.0</td>\n",
       "    </tr>\n",
       "  </tbody>\n",
       "</table>\n",
       "</div>"
      ],
      "text/plain": [
       "           column_name  percent_missing\n",
       "0             Paper ID              0.0\n",
       "1  Referenced Paper ID              0.0"
      ]
     },
     "metadata": {},
     "output_type": "display_data"
    },
    {
     "name": "stdout",
     "output_type": "stream",
     "text": [
      "\n",
      "--------------------\n"
     ]
    },
    {
     "data": {
      "text/markdown": [
       "### Dataset: `PaperTopicCSV`"
      ],
      "text/plain": [
       "<IPython.core.display.Markdown object>"
      ]
     },
     "metadata": {},
     "output_type": "display_data"
    },
    {
     "data": {
      "text/markdown": [
       "**Shape:** (41880, 2)"
      ],
      "text/plain": [
       "<IPython.core.display.Markdown object>"
      ]
     },
     "metadata": {},
     "output_type": "display_data"
    },
    {
     "data": {
      "text/markdown": [
       "**Data types:**"
      ],
      "text/plain": [
       "<IPython.core.display.Markdown object>"
      ]
     },
     "metadata": {},
     "output_type": "display_data"
    },
    {
     "data": {
      "text/html": [
       "<div>\n",
       "<style scoped>\n",
       "    .dataframe tbody tr th:only-of-type {\n",
       "        vertical-align: middle;\n",
       "    }\n",
       "\n",
       "    .dataframe tbody tr th {\n",
       "        vertical-align: top;\n",
       "    }\n",
       "\n",
       "    .dataframe thead th {\n",
       "        text-align: right;\n",
       "    }\n",
       "</style>\n",
       "<table border=\"1\" class=\"dataframe\">\n",
       "  <thead>\n",
       "    <tr style=\"text-align: right;\">\n",
       "      <th></th>\n",
       "      <th>dtype</th>\n",
       "    </tr>\n",
       "  </thead>\n",
       "  <tbody>\n",
       "    <tr>\n",
       "      <th>Paper ID</th>\n",
       "      <td>object</td>\n",
       "    </tr>\n",
       "    <tr>\n",
       "      <th>Topic ID</th>\n",
       "      <td>int64</td>\n",
       "    </tr>\n",
       "  </tbody>\n",
       "</table>\n",
       "</div>"
      ],
      "text/plain": [
       "           dtype\n",
       "Paper ID  object\n",
       "Topic ID   int64"
      ]
     },
     "metadata": {},
     "output_type": "display_data"
    },
    {
     "data": {
      "text/markdown": [
       "**Null value count:**"
      ],
      "text/plain": [
       "<IPython.core.display.Markdown object>"
      ]
     },
     "metadata": {},
     "output_type": "display_data"
    },
    {
     "data": {
      "text/html": [
       "<div>\n",
       "<style scoped>\n",
       "    .dataframe tbody tr th:only-of-type {\n",
       "        vertical-align: middle;\n",
       "    }\n",
       "\n",
       "    .dataframe tbody tr th {\n",
       "        vertical-align: top;\n",
       "    }\n",
       "\n",
       "    .dataframe thead th {\n",
       "        text-align: right;\n",
       "    }\n",
       "</style>\n",
       "<table border=\"1\" class=\"dataframe\">\n",
       "  <thead>\n",
       "    <tr style=\"text-align: right;\">\n",
       "      <th></th>\n",
       "      <th>null_count</th>\n",
       "    </tr>\n",
       "  </thead>\n",
       "  <tbody>\n",
       "    <tr>\n",
       "      <th>Paper ID</th>\n",
       "      <td>0</td>\n",
       "    </tr>\n",
       "    <tr>\n",
       "      <th>Topic ID</th>\n",
       "      <td>0</td>\n",
       "    </tr>\n",
       "  </tbody>\n",
       "</table>\n",
       "</div>"
      ],
      "text/plain": [
       "          null_count\n",
       "Paper ID           0\n",
       "Topic ID           0"
      ]
     },
     "metadata": {},
     "output_type": "display_data"
    },
    {
     "data": {
      "text/markdown": [
       "**Missing value percentages:**"
      ],
      "text/plain": [
       "<IPython.core.display.Markdown object>"
      ]
     },
     "metadata": {},
     "output_type": "display_data"
    },
    {
     "data": {
      "text/html": [
       "<div>\n",
       "<style scoped>\n",
       "    .dataframe tbody tr th:only-of-type {\n",
       "        vertical-align: middle;\n",
       "    }\n",
       "\n",
       "    .dataframe tbody tr th {\n",
       "        vertical-align: top;\n",
       "    }\n",
       "\n",
       "    .dataframe thead th {\n",
       "        text-align: right;\n",
       "    }\n",
       "</style>\n",
       "<table border=\"1\" class=\"dataframe\">\n",
       "  <thead>\n",
       "    <tr style=\"text-align: right;\">\n",
       "      <th></th>\n",
       "      <th>column_name</th>\n",
       "      <th>percent_missing</th>\n",
       "    </tr>\n",
       "  </thead>\n",
       "  <tbody>\n",
       "    <tr>\n",
       "      <th>0</th>\n",
       "      <td>Paper ID</td>\n",
       "      <td>0.0</td>\n",
       "    </tr>\n",
       "    <tr>\n",
       "      <th>1</th>\n",
       "      <td>Topic ID</td>\n",
       "      <td>0.0</td>\n",
       "    </tr>\n",
       "  </tbody>\n",
       "</table>\n",
       "</div>"
      ],
      "text/plain": [
       "  column_name  percent_missing\n",
       "0    Paper ID              0.0\n",
       "1    Topic ID              0.0"
      ]
     },
     "metadata": {},
     "output_type": "display_data"
    },
    {
     "name": "stdout",
     "output_type": "stream",
     "text": [
      "\n",
      "--------------------\n"
     ]
    },
    {
     "data": {
      "text/markdown": [
       "### Dataset: `PaperCSV`"
      ],
      "text/plain": [
       "<IPython.core.display.Markdown object>"
      ]
     },
     "metadata": {},
     "output_type": "display_data"
    },
    {
     "data": {
      "text/markdown": [
       "**Shape:** (693624, 9)"
      ],
      "text/plain": [
       "<IPython.core.display.Markdown object>"
      ]
     },
     "metadata": {},
     "output_type": "display_data"
    },
    {
     "data": {
      "text/markdown": [
       "**Data types:**"
      ],
      "text/plain": [
       "<IPython.core.display.Markdown object>"
      ]
     },
     "metadata": {},
     "output_type": "display_data"
    },
    {
     "data": {
      "text/html": [
       "<div>\n",
       "<style scoped>\n",
       "    .dataframe tbody tr th:only-of-type {\n",
       "        vertical-align: middle;\n",
       "    }\n",
       "\n",
       "    .dataframe tbody tr th {\n",
       "        vertical-align: top;\n",
       "    }\n",
       "\n",
       "    .dataframe thead th {\n",
       "        text-align: right;\n",
       "    }\n",
       "</style>\n",
       "<table border=\"1\" class=\"dataframe\">\n",
       "  <thead>\n",
       "    <tr style=\"text-align: right;\">\n",
       "      <th></th>\n",
       "      <th>dtype</th>\n",
       "    </tr>\n",
       "  </thead>\n",
       "  <tbody>\n",
       "    <tr>\n",
       "      <th>Paper ID</th>\n",
       "      <td>object</td>\n",
       "    </tr>\n",
       "    <tr>\n",
       "      <th>Paper DOI</th>\n",
       "      <td>object</td>\n",
       "    </tr>\n",
       "    <tr>\n",
       "      <th>Paper Title</th>\n",
       "      <td>object</td>\n",
       "    </tr>\n",
       "    <tr>\n",
       "      <th>Paper Year</th>\n",
       "      <td>float64</td>\n",
       "    </tr>\n",
       "    <tr>\n",
       "      <th>Paper URL</th>\n",
       "      <td>object</td>\n",
       "    </tr>\n",
       "    <tr>\n",
       "      <th>Paper Citation Count</th>\n",
       "      <td>float64</td>\n",
       "    </tr>\n",
       "    <tr>\n",
       "      <th>Fields of Study</th>\n",
       "      <td>object</td>\n",
       "    </tr>\n",
       "    <tr>\n",
       "      <th>Journal Volume</th>\n",
       "      <td>object</td>\n",
       "    </tr>\n",
       "    <tr>\n",
       "      <th>Journal Date</th>\n",
       "      <td>object</td>\n",
       "    </tr>\n",
       "  </tbody>\n",
       "</table>\n",
       "</div>"
      ],
      "text/plain": [
       "                        dtype\n",
       "Paper ID               object\n",
       "Paper DOI              object\n",
       "Paper Title            object\n",
       "Paper Year            float64\n",
       "Paper URL              object\n",
       "Paper Citation Count  float64\n",
       "Fields of Study        object\n",
       "Journal Volume         object\n",
       "Journal Date           object"
      ]
     },
     "metadata": {},
     "output_type": "display_data"
    },
    {
     "data": {
      "text/markdown": [
       "**Null value count:**"
      ],
      "text/plain": [
       "<IPython.core.display.Markdown object>"
      ]
     },
     "metadata": {},
     "output_type": "display_data"
    },
    {
     "data": {
      "text/html": [
       "<div>\n",
       "<style scoped>\n",
       "    .dataframe tbody tr th:only-of-type {\n",
       "        vertical-align: middle;\n",
       "    }\n",
       "\n",
       "    .dataframe tbody tr th {\n",
       "        vertical-align: top;\n",
       "    }\n",
       "\n",
       "    .dataframe thead th {\n",
       "        text-align: right;\n",
       "    }\n",
       "</style>\n",
       "<table border=\"1\" class=\"dataframe\">\n",
       "  <thead>\n",
       "    <tr style=\"text-align: right;\">\n",
       "      <th></th>\n",
       "      <th>null_count</th>\n",
       "    </tr>\n",
       "  </thead>\n",
       "  <tbody>\n",
       "    <tr>\n",
       "      <th>Paper ID</th>\n",
       "      <td>0</td>\n",
       "    </tr>\n",
       "    <tr>\n",
       "      <th>Paper DOI</th>\n",
       "      <td>371633</td>\n",
       "    </tr>\n",
       "    <tr>\n",
       "      <th>Paper Title</th>\n",
       "      <td>14</td>\n",
       "    </tr>\n",
       "    <tr>\n",
       "      <th>Paper Year</th>\n",
       "      <td>47577</td>\n",
       "    </tr>\n",
       "    <tr>\n",
       "      <th>Paper URL</th>\n",
       "      <td>285682</td>\n",
       "    </tr>\n",
       "    <tr>\n",
       "      <th>Paper Citation Count</th>\n",
       "      <td>661000</td>\n",
       "    </tr>\n",
       "    <tr>\n",
       "      <th>Fields of Study</th>\n",
       "      <td>661836</td>\n",
       "    </tr>\n",
       "    <tr>\n",
       "      <th>Journal Volume</th>\n",
       "      <td>662168</td>\n",
       "    </tr>\n",
       "    <tr>\n",
       "      <th>Journal Date</th>\n",
       "      <td>661000</td>\n",
       "    </tr>\n",
       "  </tbody>\n",
       "</table>\n",
       "</div>"
      ],
      "text/plain": [
       "                      null_count\n",
       "Paper ID                       0\n",
       "Paper DOI                 371633\n",
       "Paper Title                   14\n",
       "Paper Year                 47577\n",
       "Paper URL                 285682\n",
       "Paper Citation Count      661000\n",
       "Fields of Study           661836\n",
       "Journal Volume            662168\n",
       "Journal Date              661000"
      ]
     },
     "metadata": {},
     "output_type": "display_data"
    },
    {
     "data": {
      "text/markdown": [
       "**Missing value percentages:**"
      ],
      "text/plain": [
       "<IPython.core.display.Markdown object>"
      ]
     },
     "metadata": {},
     "output_type": "display_data"
    },
    {
     "data": {
      "text/html": [
       "<div>\n",
       "<style scoped>\n",
       "    .dataframe tbody tr th:only-of-type {\n",
       "        vertical-align: middle;\n",
       "    }\n",
       "\n",
       "    .dataframe tbody tr th {\n",
       "        vertical-align: top;\n",
       "    }\n",
       "\n",
       "    .dataframe thead th {\n",
       "        text-align: right;\n",
       "    }\n",
       "</style>\n",
       "<table border=\"1\" class=\"dataframe\">\n",
       "  <thead>\n",
       "    <tr style=\"text-align: right;\">\n",
       "      <th></th>\n",
       "      <th>column_name</th>\n",
       "      <th>percent_missing</th>\n",
       "    </tr>\n",
       "  </thead>\n",
       "  <tbody>\n",
       "    <tr>\n",
       "      <th>0</th>\n",
       "      <td>Journal Volume</td>\n",
       "      <td>95.46</td>\n",
       "    </tr>\n",
       "    <tr>\n",
       "      <th>1</th>\n",
       "      <td>Fields of Study</td>\n",
       "      <td>95.42</td>\n",
       "    </tr>\n",
       "    <tr>\n",
       "      <th>2</th>\n",
       "      <td>Paper Citation Count</td>\n",
       "      <td>95.30</td>\n",
       "    </tr>\n",
       "    <tr>\n",
       "      <th>3</th>\n",
       "      <td>Journal Date</td>\n",
       "      <td>95.30</td>\n",
       "    </tr>\n",
       "    <tr>\n",
       "      <th>4</th>\n",
       "      <td>Paper DOI</td>\n",
       "      <td>53.58</td>\n",
       "    </tr>\n",
       "    <tr>\n",
       "      <th>5</th>\n",
       "      <td>Paper URL</td>\n",
       "      <td>41.19</td>\n",
       "    </tr>\n",
       "    <tr>\n",
       "      <th>6</th>\n",
       "      <td>Paper Year</td>\n",
       "      <td>6.86</td>\n",
       "    </tr>\n",
       "    <tr>\n",
       "      <th>7</th>\n",
       "      <td>Paper ID</td>\n",
       "      <td>0.00</td>\n",
       "    </tr>\n",
       "    <tr>\n",
       "      <th>8</th>\n",
       "      <td>Paper Title</td>\n",
       "      <td>0.00</td>\n",
       "    </tr>\n",
       "  </tbody>\n",
       "</table>\n",
       "</div>"
      ],
      "text/plain": [
       "            column_name  percent_missing\n",
       "0        Journal Volume            95.46\n",
       "1       Fields of Study            95.42\n",
       "2  Paper Citation Count            95.30\n",
       "3          Journal Date            95.30\n",
       "4             Paper DOI            53.58\n",
       "5             Paper URL            41.19\n",
       "6            Paper Year             6.86\n",
       "7              Paper ID             0.00\n",
       "8           Paper Title             0.00"
      ]
     },
     "metadata": {},
     "output_type": "display_data"
    }
   ],
   "source": [
    "# print(\"The size of Author_PaperCSV:\")\n",
    "# print(TopicCSV.shape)\n",
    "# print(\"Finding out the total Null values\")\n",
    "# print(TopicCSV.isnull().sum())\n",
    "\n",
    "import pandas as pd\n",
    "\n",
    "# Function to calculate missing values and their percentages\n",
    "def calculate_missing_values(df):\n",
    "    percent_missing = df.isnull().sum() * 100 / len(df)\n",
    "    missing_value_df = pd.DataFrame({'column_name': df.columns,\n",
    "                                     'percent_missing': percent_missing}).round(2).sort_values(by='percent_missing', ascending=False).reset_index(drop=True)\n",
    "    return missing_value_df\n",
    "\n",
    "for df_name, df in dataframes.items():\n",
    "    print(\"\\n--------------------\")\n",
    "    display(Markdown(f\"### Dataset: `{df_name}`\"))\n",
    "    \n",
    "    # Size\n",
    "    display(Markdown(f\"**Shape:** {df.shape}\"))\n",
    "\n",
    "    # Data types\n",
    "    display(Markdown(\"**Data types:**\"))\n",
    "    display(df.dtypes.to_frame(\"dtype\"))\n",
    "\n",
    "    # Null counts\n",
    "    display(Markdown(\"**Null value count:**\"))\n",
    "    display(df.isnull().sum().to_frame(\"null_count\"))\n",
    "\n",
    "    # Missing percentages\n",
    "    display(Markdown(\"**Missing value percentages:**\"))\n",
    "    display(calculate_missing_values(df))"
   ]
  },
  {
   "cell_type": "code",
   "execution_count": 155,
   "id": "9bffe6c4-2020-4287-a232-15f62e296201",
   "metadata": {},
   "outputs": [
    {
     "name": "stdout",
     "output_type": "stream",
     "text": [
      "\n",
      "--------------------\n",
      "\n",
      "The size of AuthorCSV:\n",
      "(38925, 3)\n",
      "\n",
      "Data types for AuthorCSV:\n",
      "Author ID      object\n",
      "Author Name    object\n",
      "Author URL     object\n",
      "dtype: object\n",
      "\n",
      "Finding out the total Null values in AuthorCSV:\n",
      "Author ID       0\n",
      "Author Name     0\n",
      "Author URL     72\n",
      "dtype: int64\n",
      "\n",
      "Missing values for AuthorCSV (percentage):\n",
      "   column_name  percent_missing\n",
      "0   Author URL             0.18\n",
      "1    Author ID             0.00\n",
      "2  Author Name             0.00 \n",
      "\n",
      "\n",
      "--------------------\n",
      "\n",
      "The size of Author_PaperCSV:\n",
      "(56450, 2)\n",
      "\n",
      "Data types for Author_PaperCSV:\n",
      "Author ID    object\n",
      "Paper ID     object\n",
      "dtype: object\n",
      "\n",
      "Finding out the total Null values in Author_PaperCSV:\n",
      "Author ID    0\n",
      "Paper ID     0\n",
      "dtype: int64\n",
      "\n",
      "Missing values for Author_PaperCSV (percentage):\n",
      "  column_name  percent_missing\n",
      "0   Author ID              0.0\n",
      "1    Paper ID              0.0 \n",
      "\n",
      "\n",
      "--------------------\n",
      "\n",
      "The size of JournalCSV:\n",
      "(165, 2)\n",
      "\n",
      "Data types for JournalCSV:\n",
      "Journal Name         object\n",
      "Journal Publisher    object\n",
      "dtype: object\n",
      "\n",
      "Finding out the total Null values in JournalCSV:\n",
      "Journal Name          0\n",
      "Journal Publisher    45\n",
      "dtype: int64\n",
      "\n",
      "Missing values for JournalCSV (percentage):\n",
      "         column_name  percent_missing\n",
      "0  Journal Publisher            27.27\n",
      "1       Journal Name             0.00 \n",
      "\n",
      "\n",
      "--------------------\n",
      "\n",
      "The size of TopicCSV:\n",
      "(6489, 3)\n",
      "\n",
      "Data types for TopicCSV:\n",
      "Topic ID       int64\n",
      "Topic Name    object\n",
      "Topic URL     object\n",
      "dtype: object\n",
      "\n",
      "Finding out the total Null values in TopicCSV:\n",
      "Topic ID      0\n",
      "Topic Name    0\n",
      "Topic URL     0\n",
      "dtype: int64\n",
      "\n",
      "Missing values for TopicCSV (percentage):\n",
      "  column_name  percent_missing\n",
      "0    Topic ID              0.0\n",
      "1  Topic Name              0.0\n",
      "2   Topic URL              0.0 \n",
      "\n",
      "\n",
      "--------------------\n",
      "\n",
      "The size of PaperJournalCSV:\n",
      "(32647, 3)\n",
      "\n",
      "Data types for PaperJournalCSV:\n",
      "Paper ID             object\n",
      "Journal Name         object\n",
      "Journal Publisher    object\n",
      "dtype: object\n",
      "\n",
      "Finding out the total Null values in PaperJournalCSV:\n",
      "Paper ID                 0\n",
      "Journal Name             0\n",
      "Journal Publisher    17739\n",
      "dtype: int64\n",
      "\n",
      "Missing values for PaperJournalCSV (percentage):\n",
      "         column_name  percent_missing\n",
      "0  Journal Publisher            54.34\n",
      "1           Paper ID             0.00\n",
      "2       Journal Name             0.00 \n",
      "\n",
      "\n",
      "--------------------\n",
      "\n",
      "The size of PaperReferenceCSV:\n",
      "(1132044, 2)\n",
      "\n",
      "Data types for PaperReferenceCSV:\n",
      "Paper ID               object\n",
      "Referenced Paper ID    object\n",
      "dtype: object\n",
      "\n",
      "Finding out the total Null values in PaperReferenceCSV:\n",
      "Paper ID               0\n",
      "Referenced Paper ID    0\n",
      "dtype: int64\n",
      "\n",
      "Missing values for PaperReferenceCSV (percentage):\n",
      "           column_name  percent_missing\n",
      "0             Paper ID              0.0\n",
      "1  Referenced Paper ID              0.0 \n",
      "\n",
      "\n",
      "--------------------\n",
      "\n",
      "The size of PaperTopicCSV:\n",
      "(41880, 2)\n",
      "\n",
      "Data types for PaperTopicCSV:\n",
      "Paper ID    object\n",
      "Topic ID     int64\n",
      "dtype: object\n",
      "\n",
      "Finding out the total Null values in PaperTopicCSV:\n",
      "Paper ID    0\n",
      "Topic ID    0\n",
      "dtype: int64\n",
      "\n",
      "Missing values for PaperTopicCSV (percentage):\n",
      "  column_name  percent_missing\n",
      "0    Paper ID              0.0\n",
      "1    Topic ID              0.0 \n",
      "\n",
      "\n",
      "--------------------\n",
      "\n",
      "The size of PaperCSV:\n",
      "(693624, 9)\n",
      "\n",
      "Data types for PaperCSV:\n",
      "Paper ID                 object\n",
      "Paper DOI                object\n",
      "Paper Title              object\n",
      "Paper Year              float64\n",
      "Paper URL                object\n",
      "Paper Citation Count    float64\n",
      "Fields of Study          object\n",
      "Journal Volume           object\n",
      "Journal Date             object\n",
      "dtype: object\n",
      "\n",
      "Finding out the total Null values in PaperCSV:\n",
      "Paper ID                     0\n",
      "Paper DOI               371633\n",
      "Paper Title                 14\n",
      "Paper Year               47577\n",
      "Paper URL               285682\n",
      "Paper Citation Count    661000\n",
      "Fields of Study         661836\n",
      "Journal Volume          662168\n",
      "Journal Date            661000\n",
      "dtype: int64\n",
      "\n",
      "Missing values for PaperCSV (percentage):\n",
      "            column_name  percent_missing\n",
      "0        Journal Volume            95.46\n",
      "1       Fields of Study            95.42\n",
      "2  Paper Citation Count            95.30\n",
      "3          Journal Date            95.30\n",
      "4             Paper DOI            53.58\n",
      "5             Paper URL            41.19\n",
      "6            Paper Year             6.86\n",
      "7              Paper ID             0.00\n",
      "8           Paper Title             0.00 \n",
      "\n"
     ]
    }
   ],
   "source": [
    "# print(\"The size of Author_PaperCSV:\")\n",
    "# print(TopicCSV.shape)\n",
    "# print(\"Finding out the total Null values\")\n",
    "# print(TopicCSV.isnull().sum())\n",
    "\n",
    "import pandas as pd\n",
    "\n",
    "# Function to calculate missing values and their percentages\n",
    "def calculate_missing_values(df):\n",
    "    percent_missing = df.isnull().sum() * 100 / len(df)\n",
    "    missing_value_df = pd.DataFrame({'column_name': df.columns,\n",
    "                                     'percent_missing': percent_missing}).round(2).sort_values(by='percent_missing', ascending=False).reset_index(drop=True)\n",
    "    return missing_value_df\n",
    "\n",
    "# Loop over DataFrames to print size, missing values, column data types, and calculate the missing value percentages\n",
    "for df_name, df in dataframes.items():\n",
    "    print(\"\\n--------------------\")\n",
    "    print(f\"\\nThe size of {df_name}:\")\n",
    "    print(df.shape)\n",
    "    \n",
    "    # Print the column data types\n",
    "    print(f\"\\nData types for {df_name}:\")\n",
    "    print(df.dtypes)\n",
    "    \n",
    "    print(f\"\\nFinding out the total Null values in {df_name}:\")\n",
    "    print(df.isnull().sum())\n",
    "    \n",
    "    # Calculate missing value percentages\n",
    "    print(f\"\\nMissing values for {df_name} (percentage):\")\n",
    "    missing_value_df = calculate_missing_values(df)\n",
    "    print(missing_value_df, \"\\n\")"
   ]
  },
  {
   "cell_type": "markdown",
   "id": "b2b01dd2-0dfd-4384-84ae-404b9d895528",
   "metadata": {},
   "source": [
    "## Basic guideline with which I will be handling the data-cleaning e.t.c.\n",
    "\n",
    "Within the Data Science Class I took, we were told that if we have 2%, 3% or 5% of missing values, then you drop those rows which contains those values, that's an industry rule of thumb.\\\n",
    "But if you have 5% or more than 10% of missing value, then you can \"think\" of filling them \\\n",
    "However, if it's 20% then you are losing a lot of information. \n",
    "\n",
    "For categorical, use mode \n",
    "For Numerical, use mean \n",
    "For ordinal numerical, use median (or mode if situation calls for it)\n"
   ]
  },
  {
   "cell_type": "code",
   "execution_count": 151,
   "id": "495c7604-2b0a-406e-9b89-32fdfefa0f9d",
   "metadata": {},
   "outputs": [
    {
     "name": "stdout",
     "output_type": "stream",
     "text": [
      "Number of duplicate rows in AuthorCSV: 0\n",
      "Duplicate rows in AuthorCSV:\n",
      "Empty DataFrame\n",
      "Columns: [Author ID, Author Name, Author URL]\n",
      "Index: [] \n",
      "\n",
      "Number of duplicate rows in Author_PaperCSV: 0\n",
      "Duplicate rows in Author_PaperCSV:\n",
      "Empty DataFrame\n",
      "Columns: [Author ID, Paper ID]\n",
      "Index: [] \n",
      "\n",
      "Number of duplicate rows in JournalCSV: 0\n",
      "Duplicate rows in JournalCSV:\n",
      "Empty DataFrame\n",
      "Columns: [Journal Name, Journal Publisher]\n",
      "Index: [] \n",
      "\n",
      "Number of duplicate rows in TopicCSV: 0\n",
      "Duplicate rows in TopicCSV:\n",
      "Empty DataFrame\n",
      "Columns: [Topic ID, Topic Name, Topic URL]\n",
      "Index: [] \n",
      "\n",
      "Number of duplicate rows in PaperJournalCSV: 0\n",
      "Duplicate rows in PaperJournalCSV:\n",
      "Empty DataFrame\n",
      "Columns: [Paper ID, Journal Name, Journal Publisher]\n",
      "Index: [] \n",
      "\n",
      "Number of duplicate rows in PaperReferenceCSV: 0\n",
      "Duplicate rows in PaperReferenceCSV:\n",
      "Empty DataFrame\n",
      "Columns: [Paper ID, Referenced Paper ID]\n",
      "Index: [] \n",
      "\n",
      "Number of duplicate rows in PaperTopicCSV: 0\n",
      "Duplicate rows in PaperTopicCSV:\n",
      "Empty DataFrame\n",
      "Columns: [Paper ID, Topic ID]\n",
      "Index: [] \n",
      "\n",
      "Number of duplicate rows in PaperCSV: 0\n",
      "Duplicate rows in PaperCSV:\n",
      "Empty DataFrame\n",
      "Columns: [Paper ID, Paper DOI, Paper Title, Paper Year, Paper URL, Paper Citation Count, Fields of Study, Journal Volume, Journal Date]\n",
      "Index: [] \n",
      "\n"
     ]
    }
   ],
   "source": [
    "for df_name, df in dataframes.items():\n",
    "    # Find duplicate rows\n",
    "    duplicate_rows_df = df[df.duplicated()]\n",
    "    print(f\"Number of duplicate rows in {df_name}: {duplicate_rows_df.shape[0]}\")\n",
    "    print(f\"Duplicate rows in {df_name}:\")\n",
    "    print(duplicate_rows_df, \"\\n\")"
   ]
  },
  {
   "cell_type": "code",
   "execution_count": null,
   "id": "442b8e85-7563-4b6f-8893-e92a248a54ce",
   "metadata": {},
   "outputs": [],
   "source": []
  }
 ],
 "metadata": {
  "kernelspec": {
   "display_name": "Python 3 (ipykernel)",
   "language": "python",
   "name": "python3"
  },
  "language_info": {
   "codemirror_mode": {
    "name": "ipython",
    "version": 3
   },
   "file_extension": ".py",
   "mimetype": "text/x-python",
   "name": "python",
   "nbconvert_exporter": "python",
   "pygments_lexer": "ipython3",
   "version": "3.12.4"
  }
 },
 "nbformat": 4,
 "nbformat_minor": 5
}
